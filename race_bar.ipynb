{
 "nbformat": 4,
 "nbformat_minor": 2,
 "metadata": {
  "language_info": {
   "name": "python",
   "codemirror_mode": {
    "name": "ipython",
    "version": 3
   },
   "version": "3.6.0"
  },
  "orig_nbformat": 2,
  "file_extension": ".py",
  "mimetype": "text/x-python",
  "name": "python",
  "npconvert_exporter": "python",
  "pygments_lexer": "ipython3",
  "version": 3
 },
 "cells": [
  {
   "source": [
    "url = 'https://raw.githubusercontent.com/npukujui11/520-fc/master/race_bar_sheet.csv'\n",
    "df = pd.read_csv(url, usecols=['NAME', 'region1', 'region2','7月9日'])\n",
    "df.head(5)"
   ],
   "cell_type": "code",
   "outputs": [
    {
     "output_type": "execute_result",
     "data": {
      "text/plain": "  NAME  region1  region2  7月9日\n0   北纬        5        7     1\n1   阿哲        5        6     0\n2   阿申        2       10     1\n3   昊子        2        9     1\n4   风光        1        7     1",
      "text/html": "<div>\n<style scoped>\n    .dataframe tbody tr th:only-of-type {\n        vertical-align: middle;\n    }\n\n    .dataframe tbody tr th {\n        vertical-align: top;\n    }\n\n    .dataframe thead th {\n        text-align: right;\n    }\n</style>\n<table border=\"1\" class=\"dataframe\">\n  <thead>\n    <tr style=\"text-align: right;\">\n      <th></th>\n      <th>NAME</th>\n      <th>region1</th>\n      <th>region2</th>\n      <th>7月9日</th>\n    </tr>\n  </thead>\n  <tbody>\n    <tr>\n      <th>0</th>\n      <td>北纬</td>\n      <td>5</td>\n      <td>7</td>\n      <td>1</td>\n    </tr>\n    <tr>\n      <th>1</th>\n      <td>阿哲</td>\n      <td>5</td>\n      <td>6</td>\n      <td>0</td>\n    </tr>\n    <tr>\n      <th>2</th>\n      <td>阿申</td>\n      <td>2</td>\n      <td>10</td>\n      <td>1</td>\n    </tr>\n    <tr>\n      <th>3</th>\n      <td>昊子</td>\n      <td>2</td>\n      <td>9</td>\n      <td>1</td>\n    </tr>\n    <tr>\n      <th>4</th>\n      <td>风光</td>\n      <td>1</td>\n      <td>7</td>\n      <td>1</td>\n    </tr>\n  </tbody>\n</table>\n</div>"
     },
     "metadata": {},
     "execution_count": 5
    }
   ],
   "metadata": {},
   "execution_count": 5
  },
  {
   "cell_type": "code",
   "execution_count": null,
   "metadata": {},
   "outputs": [],
   "source": [
    "colors = dict(zip(\n",
    "    ['北纬', '阿哲', '阿申', '昊子', '风光', '周末', '刘佳', '锋哥', '开泉', '表弟', '阿洵', '大又', '阿源', '杰伦', '侯哥', '全哥', '门妖', '阿根', '阿勋', '阿尬', '阿晖', '阿政', '雷哥', '托尼', '星', '周先生', '主任', '可乐', '双龙', '伟哥', '文男', '卡卡', '老k', '陆威'\n",
    "], [\"#adb0ff\", \"#ffb3ff\", \"#90d595\", \"#e48381\", \"#aafbff\", \"#f7bb5f\", \"#eafb50\", \"#fffcad\", \"#add9ff\", \"#adb0ff\", \"d3adff\", \"#adffba\", \"#e8adff\", \"#d9ffad\", \"#ffd3ad\", \"#ffadb0\", \"#adfffc\", \"#fffcad\", \"#ffadd9\", \"#adedff\", \"#ffbfad\", \"#adafff\", \"#adb0ff\", \"#ffb3ff\", \"#90d595\", \"#e48381\", \"#aafbff\", \"#f7bb5f\", \"#eafb50\", \"#fffcad\", \"#ffadd9\", \"#adedff\", \"#ffbfad\", \"#adafff\"]\n",
    "))\n",
    "group_lk = df.set_index('NAME')['gro].to_dict()"
   ]
  },
  {
   "cell_type": "code",
   "execution_count": null,
   "metadata": {},
   "outputs": [],
   "source": []
  },
  {
   "source": [
    "import pandas as pd\n",
    "import matplotlib.pyplot as plt\n",
    "import matplotlib.ticker as ticker\n",
    "import matplotlib.animation as animation\n",
    "from IPython.display import HTML"
   ],
   "cell_type": "code",
   "outputs": [],
   "metadata": {},
   "execution_count": 1
  }
 ]
}